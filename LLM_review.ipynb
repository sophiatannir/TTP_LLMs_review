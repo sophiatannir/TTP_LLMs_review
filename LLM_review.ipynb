{
 "cells": [
  {
   "cell_type": "markdown",
   "id": "d35c7632",
   "metadata": {},
   "source": [
    "# Challenges and Applications of Large Language Models\n",
    "Jean Kaddour, Joshua Harris, Maximilian Mozes, Herbie Bradley, Roberta Raileanu, and Robert McHardy\n",
    "\n",
    "## Toy Examples of Challenges & Basic Application Examples\n",
    "Prepared by Sophia Tannir and Rachel Montgomery"
   ]
  },
  {
   "cell_type": "markdown",
   "id": "5897cc96",
   "metadata": {},
   "source": [
    "# Challenges and Solutions"
   ]
  },
  {
   "cell_type": "markdown",
   "id": "fef854d3",
   "metadata": {},
   "source": [
    "## Major Problem: Unfathomable Datasets (Section 2.1)"
   ]
  },
  {
   "cell_type": "markdown",
   "id": "9fc09109",
   "metadata": {},
   "source": [
    "### Identifying Near-Duplicates\n",
    "- Problem: Large datasets often contain near-duplicate documents, which can skew results and waste computational resources\n",
    "- Addressed with: Techniques such as MinHash and NearDup can efficiently identify near-duplicates by grouping documents based on similarity measures, reducing the computational load and improving the dataset's quality"
   ]
  },
  {
   "cell_type": "code",
   "execution_count": 2,
   "id": "bcc72543",
   "metadata": {},
   "outputs": [
    {
     "name": "stdout",
     "output_type": "stream",
     "text": [
      "Found near-duplicates: ['This is a sample document.', 'This is a Sample document.']\n"
     ]
    }
   ],
   "source": [
    "from collections import defaultdict\n",
    "\n",
    "# Simulate a small dataset\n",
    "documents = [\n",
    "    \"This is a sample document.\",\n",
    "    \"This is a sample document with a slight variation.\",\n",
    "    \"Another distinct document.\",\n",
    "    \"This is a Sample document.\"\n",
    "]\n",
    "\n",
    "# Naive approach to identify near-duplicates\n",
    "def naive_hash(doc):\n",
    "    return hash(\"\".join(sorted(doc.lower().split())))\n",
    "\n",
    "# Group documents by their naive hash\n",
    "groups = defaultdict(list)\n",
    "for doc in documents:\n",
    "    groups[naive_hash(doc)].append(doc)\n",
    "\n",
    "# Identify potential near-duplicates\n",
    "for group in groups.values():\n",
    "    if len(group) > 1:\n",
    "        print(\"Found near-duplicates:\", group)"
   ]
  },
  {
   "cell_type": "markdown",
   "id": "fd702711",
   "metadata": {},
   "source": [
    "### Benchmark Data Contamination\n",
    "- Problem: Overlap between training and test documents can lead to overfitting, where the model performs well on test data due to memorization rather than generalization\n",
    "- Addressed with: Similarity measures can flag training documents that share too many words with any test document, helping to prevent data contamination and ensure more reliable model evaluation. However, these measures can be computationally intensive and much more complex than what we see here in the toy example"
   ]
  },
  {
   "cell_type": "code",
   "execution_count": 3,
   "id": "4600aee8",
   "metadata": {},
   "outputs": [
    {
     "name": "stdout",
     "output_type": "stream",
     "text": [
      "Potential overlap found: \"This is a training document.\" and \"This training document is a test example.\"\n"
     ]
    }
   ],
   "source": [
    "def simple_similarity(doc1, doc2):\n",
    "    words_doc1 = set(doc1.lower().split())\n",
    "    words_doc2 = set(doc2.lower().split())\n",
    "    common_words = words_doc1.intersection(words_doc2)\n",
    "    return len(common_words) / max(len(words_doc1), len(words_doc2))\n",
    "\n",
    "training_docs = [\"This is a training document.\", \"Another training example.\"]\n",
    "test_docs = [\"A test document.\", \"This training document is a test example.\"]\n",
    "\n",
    "# Flag training documents that share too many words with any test document\n",
    "for train_doc in training_docs:\n",
    "    for test_doc in test_docs:\n",
    "        if simple_similarity(train_doc, test_doc) > 0.5:  # Using a threshold of 50% similarity\n",
    "            print(f\"Potential overlap found: \\\"{train_doc}\\\" and \\\"{test_doc}\\\"\")"
   ]
  },
  {
   "cell_type": "markdown",
   "id": "e69ddad1",
   "metadata": {},
   "source": [
    "### Filtering Personal Identifying Information\n",
    "- Problem: Datasets may contain sensitive information that should not be disclosed, such as email addresses, posing privacy concerns\n",
    "- Solved with: Regular expressions (regex) can be used to identify and filter out PII, replacing it with generic placeholders to protect individual privacy while maintaining the utility of the dataset. Further problems arise with LLMs when these regular expressions fail to capture the vast breadth of possible PII"
   ]
  },
  {
   "cell_type": "code",
   "execution_count": 4,
   "id": "ef20b80a",
   "metadata": {},
   "outputs": [
    {
     "name": "stdout",
     "output_type": "stream",
     "text": [
      "Contact us at [EMAIL] for more information.\n"
     ]
    }
   ],
   "source": [
    "import re\n",
    "\n",
    "def filter_pii(text):\n",
    "    # Simple regex for demonstration purposes\n",
    "    email_regex = re.compile(r'\\b[A-Za-z0-9._%+-]+@[A-Za-z0-9.-]+\\.[A-Z|a-z]{2,}\\b')\n",
    "    return email_regex.sub(\"[EMAIL]\", text)\n",
    "\n",
    "document_with_pii = \"Contact us at info@example.com for more information.\"\n",
    "filtered_document = filter_pii(document_with_pii)\n",
    "\n",
    "print(filtered_document)"
   ]
  },
  {
   "cell_type": "markdown",
   "id": "9e2d9429",
   "metadata": {},
   "source": [
    "### Analyzing Pre-Training Domain Mixtures\n",
    "- Problem: The composition of pre-training data across different domains can significantly impact model performance on downstream tasks, introducing bias towards the more well-represented domains\n",
    "- Addressed with: Analyzing the frequency and proportion of documents from each domain in the pre-training dataset allows for adjusting the domain mix to create a more balanced and representative dataset, potentially improving model performance on a wider range of tasks"
   ]
  },
  {
   "cell_type": "code",
   "execution_count": 5,
   "id": "62960ad9",
   "metadata": {},
   "outputs": [
    {
     "name": "stdout",
     "output_type": "stream",
     "text": [
      "Domain: science, Proportion: 0.42857142857142855\n",
      "Domain: news, Proportion: 0.2857142857142857\n",
      "Domain: blog, Proportion: 0.2857142857142857\n"
     ]
    }
   ],
   "source": [
    "from collections import Counter\n",
    "\n",
    "# Simulated document domains\n",
    "documents = [\"science\", \"news\", \"science\", \"blog\", \"news\", \"blog\", \"science\"]\n",
    "\n",
    "# Count the frequency of each domain\n",
    "domain_counts = Counter(documents)\n",
    "total_documents = len(documents)\n",
    "\n",
    "# Calculate and print proportions\n",
    "for domain, count in domain_counts.items():\n",
    "    proportion = count / total_documents\n",
    "    print(f\"Domain: {domain}, Proportion: {proportion}\")"
   ]
  },
  {
   "cell_type": "markdown",
   "id": "8e108f04",
   "metadata": {},
   "source": [
    "### Balancing Fine-Tuning Task Mixtures\n",
    "- Problem: Imbalance in task-specific data can lead to models that perform well on tasks with more data at the expense of those with less\n",
    "- Addressed with: Ensuring each task has equal representation in the training data, either by sampling or weighting, can help achieve better performance across all tasks, leading to a more versatile and fair model. Here, we look at balancing, but weighting can be more appropriate when you're hoping to avoid \"throwing out\" too much data"
   ]
  },
  {
   "cell_type": "code",
   "execution_count": 6,
   "id": "768eba67",
   "metadata": {},
   "outputs": [
    {
     "name": "stdout",
     "output_type": "stream",
     "text": [
      "Balanced Dataset: ['data1', 'data2', 'data3', 'data8', 'data9', 'data4', 'data5', 'data6']\n"
     ]
    }
   ],
   "source": [
    "task_data = {\n",
    "    \"task1\": [\"data1\", \"data2\"],\n",
    "    \"task2\": [\"data3\", \"data8\", \"data9\", \"data10\", \"data11\"],\n",
    "    \"task3\": [\"data4\", \"data5\", \"data6\", \"data7\"]\n",
    "}\n",
    "\n",
    "# Ensure each task has a more equal representation\n",
    "balanced_dataset = []\n",
    "for task, data in task_data.items():\n",
    "    balanced_dataset.extend(data[:3])  # Limiting to 3 data points per task for simplicity\n",
    "\n",
    "print(\"Balanced Dataset:\", balanced_dataset)"
   ]
  },
  {
   "cell_type": "markdown",
   "id": "54844269",
   "metadata": {},
   "source": [
    "## Tasks Not Solvable By Scale\n",
    "- Problem: Not all tasks benefit equally from increasing model size; some tasks may see diminishing returns or even performance degradation as model size increases\n",
    "- Addressed with: Model training must be improved, either via hyperparameters, model selection, or more relevant data. Increasing the amount of data does not help, but the specificity of the data could improve the model performance instead"
   ]
  },
  {
   "cell_type": "code",
   "execution_count": 7,
   "id": "08a2ea00",
   "metadata": {
    "scrolled": false
   },
   "outputs": [
    {
     "data": {
      "image/png": "[encoded data removed]",
      "text/plain": [
       "<Figure size 640x480 with 1 Axes>"
      ]
     },
     "metadata": {},
     "output_type": "display_data"
    }
   ],
   "source": [
    "import matplotlib.pyplot as plt\n",
    "\n",
    "# Simulate model performance over \"model sizes\"\n",
    "model_sizes = range(1, 11)  # Simplified as training iterations\n",
    "task_performance = [1/(size**0.5) for size in model_sizes]  # Simplifying IS as performance degradation\n",
    "\n",
    "plt.plot(model_sizes, task_performance)\n",
    "plt.xlabel('Model Size (Simplified as Training Iterations)')\n",
    "plt.ylabel('Task Performance')\n",
    "plt.title('Inverse Scaling Simulation')\n",
    "plt.show()"
   ]
  },
  {
   "cell_type": "markdown",
   "id": "628c2268",
   "metadata": {},
   "source": [
    "## Major Problem: High Inference Latency (Section 2.5)"
   ]
  },
  {
   "cell_type": "markdown",
   "id": "42363926",
   "metadata": {},
   "source": [
    "### LoRA\n",
    "- Problem: Larger models can suffer from high inference latency, making them impractical for real-time applications\n",
    "- Addressed with: Techniques like Low-Rank Adaptation update the model's weights with low-rank matrices, reducing the computational cost without significantly compromising performance, making large models more practical for real-time use"
   ]
  },
  {
   "cell_type": "code",
   "execution_count": 8,
   "id": "47ae2a3b",
   "metadata": {},
   "outputs": [
    {
     "name": "stdout",
     "output_type": "stream",
     "text": [
      "Original W:\n",
      " [[ 7.86175296e-01 -2.40382595e-01  7.37132970e-01  2.61114227e-01\n",
      "   2.20027136e+00  4.29692698e-01 -8.98811063e-01 -1.37869582e+00\n",
      "  -4.88466651e-01  1.88288235e+00]\n",
      " [ 2.31796411e-01  2.61867732e-02 -1.26906669e-01  1.10090015e+00\n",
      "  -9.90902735e-01  4.44747803e-01 -5.14177130e-01 -3.21220478e-01\n",
      "   7.03201620e-01 -1.52771350e+00]\n",
      " [-1.23645652e-03 -1.44792104e+00  8.95959345e-01 -2.50877795e+00\n",
      "   1.14351078e+00  1.93724332e+00 -7.90529546e-01  2.12666121e+00\n",
      "   1.59779387e+00  2.22689602e-01]\n",
      " [-1.11843217e+00  2.99492328e-01 -7.07361382e-01 -4.60237040e-01\n",
      "   1.91154977e-01  4.56019575e-01 -1.69030281e-01 -1.57363384e+00\n",
      "   9.16301655e-01  7.80121738e-01]\n",
      " [ 6.75210765e-01 -6.95375802e-01  2.68261572e-01  7.12207394e-01\n",
      "  -1.21884923e+00  1.85718644e-01  7.84440184e-01  8.53617725e-01\n",
      "  -7.76813270e-01 -8.80922502e-02]\n",
      " [ 1.24988568e+00  1.67280862e+00 -5.43048132e-01 -1.11260472e+00\n",
      "  -1.36498327e-01 -5.12030503e-01 -1.42462618e+00 -2.25239300e-01\n",
      "   3.72740713e-01 -4.42173461e-01]\n",
      " [-6.35271911e-01 -6.78660610e-01  1.13591609e+00 -1.25930513e-01\n",
      "   5.07140525e-01  2.07787908e-01 -2.98950445e-01 -1.57520255e-01\n",
      "   1.44061681e+00 -5.65172605e-01]\n",
      " [ 8.85007322e-01  1.75711370e-02  1.33141690e-01 -5.22351664e-01\n",
      "   1.47007427e-01 -1.63028430e+00  3.48355484e-01 -1.05471600e+00\n",
      "   6.16746724e-01 -1.50462734e+00]\n",
      " [ 9.19237743e-01  1.48175285e-01  1.94928053e-01  2.38014084e-01\n",
      "  -4.31411922e-01  3.56048378e-01 -7.15047944e-01 -8.51108965e-01\n",
      "   1.37712910e+00 -1.13904869e+00]\n",
      " [-1.56005347e-01 -1.48783331e-01  1.78808928e-01 -3.32817405e-01\n",
      "   1.13684470e+00 -2.17797710e+00  1.76171987e+00 -3.92409638e-01\n",
      "  -1.18892004e+00 -6.69112493e-01]]\n",
      "Updated W:\n",
      " [[ 0.60883448 -0.81883613  0.84026557  0.11842861  2.33933362  0.57208808\n",
      "  -1.25239596 -2.01344553 -0.46333408  1.88501978]\n",
      " [ 0.47599661  1.01931499 -0.22021462  2.22194617 -0.80215707  0.73553639\n",
      "   0.91987213  1.75193121  0.53761952 -1.00433501]\n",
      " [ 0.88997027  1.42643551  0.36960146 -1.94503487  0.38161958  1.14092046\n",
      "   0.82931844  5.11769712  1.49321049  0.12467569]\n",
      " [-2.47439419 -3.82638728  0.15478783 -0.1543319   1.82891943  2.28037649\n",
      "  -1.44154354 -4.61531643  0.91058348  1.5916634 ]\n",
      " [ 0.65410659 -0.38058766  0.37558043  2.49941425 -0.46031295  1.15273322\n",
      "   2.59063633  3.11797788 -1.02940392  0.93921959]\n",
      " [-0.39828534 -3.68804966  0.41920623 -2.36732309  1.1852724   0.84894942\n",
      "  -4.63765737 -6.03191285  0.59620712 -0.381678  ]\n",
      " [ 0.11185647  1.70742821  0.68881051  0.23577622 -0.17718606 -0.51819404\n",
      "   0.94541442  2.20613866  1.3686509  -0.71047108]\n",
      " [ 0.17550401 -2.2734819   0.55150594 -0.98401318  0.74827311 -1.00308989\n",
      "  -0.95440148 -3.45260008  0.70182848 -1.433916  ]\n",
      " [ 2.7795737   5.56777781 -1.04761467 -1.3149584  -3.14444305 -2.7436858\n",
      "  -0.13017432  1.85219959  1.54551502 -2.89759262]\n",
      " [ 0.23488466  0.74442331 -0.14310795 -1.81393852  0.09186105 -3.43740172\n",
      "   0.70157965 -1.32210425 -0.98994797 -1.69600727]]\n"
     ]
    }
   ],
   "source": [
    "import numpy as np\n",
    "\n",
    "# Original weight matrix W of size (m, n)\n",
    "m, n = 10, 10\n",
    "W = np.random.randn(m, n)\n",
    "\n",
    "# Low-rank matrices B and A of size (m, r) and (r, n), where r << m, n\n",
    "r = 2\n",
    "B = np.random.randn(m, r)\n",
    "A = np.random.randn(r, n)\n",
    "\n",
    "# Low-rank update\n",
    "W_updated = W + B @ A\n",
    "\n",
    "print(\"Original W:\\n\", W)\n",
    "print(\"Updated W:\\n\", W_updated)"
   ]
  },
  {
   "cell_type": "markdown",
   "id": "a607302b",
   "metadata": {},
   "source": [
    "### Quantization\n",
    "- Problem: Floating-point operations are computationally expensive and can be a bottleneck for model deployment, especially on devices with limited processing power\n",
    "- Addressed with: Quantization reduces the precision of the model's weights from floating-point to integer values, significantly speeding up inference and reducing memory footprint while maintaining acceptable levels of accuracy"
   ]
  },
  {
   "cell_type": "code",
   "execution_count": 9,
   "id": "aeac87c5",
   "metadata": {},
   "outputs": [
    {
     "name": "stdout",
     "output_type": "stream",
     "text": [
      "Floating-point weights: [-0.27183989  1.46579243 -1.45873896 -0.54156054 -1.26480264]\n",
      "Quantized weights: [103 255   0  80  17]\n"
     ]
    }
   ],
   "source": [
    "# Floating-point weights\n",
    "weights_fp = np.random.randn(5)\n",
    "\n",
    "# Quantize to 8-bit integer\n",
    "weights_quantized = np.round(255 * (weights_fp - weights_fp.min()) / (weights_fp.max() - weights_fp.min())).astype(np.uint8)\n",
    "\n",
    "print(\"Floating-point weights:\", weights_fp)\n",
    "print(\"Quantized weights:\", weights_quantized)"
   ]
  },
  {
   "cell_type": "markdown",
   "id": "664e5d00",
   "metadata": {},
   "source": [
    "### Pruning\n",
    "- Problem: Many parameters in an LLM may be redundant, contributing little to the model's output\n",
    "- Addressed with: Pruning identifies and removes these redundant parameters, resulting in a sparser and more efficient model without a significant loss in performance, improving inference speed and reducing model size"
   ]
  },
  {
   "cell_type": "code",
   "execution_count": 10,
   "id": "b2f477d7",
   "metadata": {},
   "outputs": [
    {
     "name": "stdout",
     "output_type": "stream",
     "text": [
      "Original weights: [ 1.50874495 -0.0941763   0.18153156  0.90861614 -0.40557509 -1.24417269\n",
      " -0.35004879 -1.26672088  1.49360942  0.34050332]\n",
      "Pruned weights: [ 1.50874495  0.          0.          0.90861614  0.         -1.24417269\n",
      "  0.         -1.26672088  1.49360942  0.        ]\n"
     ]
    }
   ],
   "source": [
    "# Artificial weights\n",
    "weights = np.random.randn(10)\n",
    "\n",
    "# Pruning threshold\n",
    "threshold = np.percentile(np.abs(weights), 50)  # Prune 50% of the weights\n",
    "\n",
    "# Apply pruning\n",
    "weights_pruned = np.where(np.abs(weights) < threshold, 0, weights)\n",
    "\n",
    "print(\"Original weights:\", weights)\n",
    "print(\"Pruned weights:\", weights_pruned)"
   ]
  },
  {
   "cell_type": "markdown",
   "id": "44b8c784",
   "metadata": {},
   "source": [
    "### Mixture of Experts\n",
    "- Problem: A single model architecture may not be optimal for all types of input data, leading to inefficiencies\n",
    "- Addressed with: A Mixture of Experts approach uses a router to dynamically select the most appropriate expert model for a given input, combining the strengths of different models to improve overall performance and efficiency"
   ]
  },
  {
   "cell_type": "code",
   "execution_count": 11,
   "id": "db1f19b6",
   "metadata": {},
   "outputs": [
    {
     "name": "stdout",
     "output_type": "stream",
     "text": [
      "Input: 1, Selected Expert: expert1, Output: 2\n",
      "Input: 5, Selected Expert: expert2, Output: 25\n",
      "Input: 10, Selected Expert: expert2, Output: 100\n"
     ]
    }
   ],
   "source": [
    "def expert1(x):\n",
    "    return x * 2\n",
    "\n",
    "def expert2(x):\n",
    "    return x ** 2\n",
    "\n",
    "def router(x):\n",
    "    # Simple routing logic based on the input value\n",
    "    return expert1 if x < 5 else expert2\n",
    "\n",
    "# Test inputs\n",
    "inputs = [1, 5, 10]\n",
    "\n",
    "for x in inputs:\n",
    "    selected_expert = router(x)\n",
    "    print(f\"Input: {x}, Selected Expert: {selected_expert.__name__}, Output: {selected_expert(x)}\")"
   ]
  },
  {
   "cell_type": "markdown",
   "id": "f9d491f3",
   "metadata": {},
   "source": [
    "## Application Example"
   ]
  },
  {
   "cell_type": "markdown",
   "id": "dffa722a",
   "metadata": {},
   "source": [
    "### Data Generation"
   ]
  },
  {
   "cell_type": "code",
   "execution_count": 18,
   "id": "4dc6c58f",
   "metadata": {},
   "outputs": [],
   "source": [
    "from transformers import pipeline, set_seed\n",
    "import random"
   ]
  },
  {
   "cell_type": "code",
   "execution_count": 31,
   "id": "02b0e173",
   "metadata": {},
   "outputs": [],
   "source": [
    "generator = pipeline('text-generation', model='gpt2', max_length=100)\n",
    "set_seed(42)"
   ]
  },
  {
   "cell_type": "code",
   "execution_count": 32,
   "id": "0357ffce",
   "metadata": {},
   "outputs": [],
   "source": [
    "prompts = {\n",
    "    'positive': [\n",
    "        \"A customer recently bought a high-quality backpack for hiking. They were amazed by its durability and comfort. What might they say in a review?\",\n",
    "        \"Imagine a customer bought a new smartphone that exceeded their expectations in performance and camera quality. Write a positive review they might leave.\",\n",
    "        \"A customer purchased a kitchen gadget that significantly simplified their cooking process. They found it incredibly useful and time-saving. Describe their positive feedback.\"\n",
    "    ],\n",
    "    'negative': [\n",
    "        \"A customer was disappointed with a pair of headphones they purchased online due to poor sound quality and comfort. Write the review they might leave.\",\n",
    "        \"Someone bought a smartwatch but found its battery life to be much shorter than advertised and had issues with its fitness tracking accuracy. Detail their negative review.\",\n",
    "        \"A user experienced frequent malfunctions with their new coffee maker, which often made weaker coffee than expected. Describe the negative review they might post.\"\n",
    "    ]\n",
    "}"
   ]
  },
  {
   "cell_type": "code",
   "execution_count": 33,
   "id": "129a407a",
   "metadata": {},
   "outputs": [],
   "source": [
    "n_examples = 5"
   ]
  },
  {
   "cell_type": "code",
   "execution_count": 38,
   "id": "178e654b",
   "metadata": {},
   "outputs": [
    {
     "name": "stderr",
     "output_type": "stream",
     "text": [
      "Setting `pad_token_id` to `eos_token_id`:50256 for open-end generation.\n",
      "Setting `pad_token_id` to `eos_token_id`:50256 for open-end generation.\n",
      "Setting `pad_token_id` to `eos_token_id`:50256 for open-end generation.\n",
      "Setting `pad_token_id` to `eos_token_id`:50256 for open-end generation.\n",
      "Setting `pad_token_id` to `eos_token_id`:50256 for open-end generation.\n",
      "Setting `pad_token_id` to `eos_token_id`:50256 for open-end generation.\n"
     ]
    }
   ],
   "source": [
    "synthetic_data = []\n",
    "for sentiment, scenarios in prompts.items():\n",
    "    for scenario in scenarios:\n",
    "        generated = generator(scenario, num_return_sequences=1)\n",
    "        text = generated[0]['generated_text'].split(scenario)[-1].strip()  # Extract the generated part\n",
    "        synthetic_data.append((text, sentiment))"
   ]
  },
  {
   "cell_type": "code",
   "execution_count": 39,
   "id": "8ee487f2",
   "metadata": {
    "scrolled": false
   },
   "outputs": [
    {
     "name": "stdout",
     "output_type": "stream",
     "text": [
      "Sentiment: positive, Text: \n",
      "\n",
      "Sentiment: positive, Text: Read the product reviews that describe your iPhone's hardware and software. Are there any complaints about video playback performance? How many people do you currently see on-screen? Please share your experiences (both positive and negative). A good summary of your experience is published in a separate site at www.phonereviews.com, and any feedback and suggestions that you may receive after reading\n",
      "\n",
      "Sentiment: positive, Text: \"You have a computer and cooking software so you can cook in a very simple way. You do not have to spend more than two hours cooking your vegetables. You can do everything you need to do at home.\"\n",
      "\n",
      "Duke College's website explains the utility of having an electronics shop with free shipping.\n",
      "\n",
      "\"Everything you need to\n",
      "\n",
      "Sentiment: negative, Text: Rated 4 out of 5 by JK from Very soft on the ear that I got. So they don't sound too nice on I love them but have a problem with them at my ears where they play fine at loud levels. My husband purchased 2 and the other one got a very nice, but soft, headphone that was not at home yet. As\n",
      "\n",
      "Sentiment: negative, Text: Samsung Galaxy S4's battery life is now a little over a month, but this is far from the only time the Galaxy S4 has been broken by failure. When Google acquired the S4 for $1,500, the former company quickly saw it as a potential acquisition in the consumer space. So why are Samsung buying the S4\n",
      "\n",
      "Sentiment: negative, Text: A user experience that would make the entire machine fail: In our tests, our coffee maker was able to run more than 80% of the espresso I consumed before brewing. The coffee maker did not fare in our tests. And to date, coffee maker users are able to make just over 25% of what they expect, much better.\n",
      "\n"
     ]
    }
   ],
   "source": [
    "for text, sentiment in synthetic_data:\n",
    "    print(f\"Sentiment: {sentiment}, Text: {text}\\n\")"
   ]
  }
 ],
 "metadata": {
  "kernelspec": {
   "display_name": "Python 3 (ipykernel)",
   "language": "python",
   "name": "python3"
  },
  "language_info": {
   "codemirror_mode": {
    "name": "ipython",
    "version": 3
   },
   "file_extension": ".py",
   "mimetype": "text/x-python",
   "name": "python",
   "nbconvert_exporter": "python",
   "pygments_lexer": "ipython3",
   "version": "3.11.5"
  }
 },
 "nbformat": 4,
 "nbformat_minor": 5
}
